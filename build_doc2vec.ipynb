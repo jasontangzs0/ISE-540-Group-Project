{
 "cells": [
  {
   "cell_type": "code",
   "execution_count": 1,
   "id": "d1e37c74",
   "metadata": {},
   "outputs": [],
   "source": [
    "import gensim\n",
    "import gensim.downloader as api"
   ]
  },
  {
   "cell_type": "code",
   "execution_count": 2,
   "id": "4e8a3481",
   "metadata": {},
   "outputs": [],
   "source": [
    "corpus = api.load('text8')"
   ]
  },
  {
   "cell_type": "code",
   "execution_count": 3,
   "id": "f3f54493",
   "metadata": {},
   "outputs": [],
   "source": [
    "i = 0\n",
    "train_corpus = []\n",
    "for c in corpus:\n",
    "    train_corpus.append(gensim.models.doc2vec.TaggedDocument(c, [i]))"
   ]
  },
  {
   "cell_type": "code",
   "execution_count": 4,
   "id": "43e716eb",
   "metadata": {},
   "outputs": [
    {
     "data": {
      "text/plain": [
       "1701"
      ]
     },
     "execution_count": 4,
     "metadata": {},
     "output_type": "execute_result"
    }
   ],
   "source": [
    "len(train_corpus)"
   ]
  },
  {
   "cell_type": "code",
   "execution_count": 5,
   "id": "b5cb4d97",
   "metadata": {},
   "outputs": [],
   "source": [
    "model = gensim.models.doc2vec.Doc2Vec(vector_size=50, min_count=2, epochs=40)"
   ]
  },
  {
   "cell_type": "code",
   "execution_count": 6,
   "id": "71b37b5f",
   "metadata": {},
   "outputs": [],
   "source": [
    "model.build_vocab(train_corpus)"
   ]
  },
  {
   "cell_type": "code",
   "execution_count": 7,
   "id": "60d5c45f",
   "metadata": {},
   "outputs": [],
   "source": [
    "model.train(train_corpus, total_examples=model.corpus_count, epochs=model.epochs)"
   ]
  },
  {
   "cell_type": "code",
   "execution_count": 8,
   "id": "598b7c64",
   "metadata": {},
   "outputs": [
    {
     "data": {
      "text/plain": [
       "array([-0.27693   , -0.21824047, -0.19812895,  0.25727612, -0.02446434,\n",
       "        0.04649257, -0.04010518, -0.28305292, -0.21611178,  0.09027713,\n",
       "        0.18108232,  0.24585228, -0.03687104, -0.05548813, -0.19059917,\n",
       "       -0.34046268,  0.01854206,  0.28091818, -0.3654237 , -0.15596229,\n",
       "       -0.29448965,  0.08006564, -0.26425064, -0.17987597, -0.21922885,\n",
       "       -0.35982996, -0.40374628, -0.6712302 , -0.22360659, -0.50367975,\n",
       "        0.04110187,  0.15525368,  0.03448278, -0.2524308 , -0.04730587,\n",
       "       -0.0724409 , -0.0308283 , -0.30321872, -0.13133898,  0.12882471,\n",
       "        0.02043325,  0.01524355, -0.15508421, -0.33133686,  0.07378192,\n",
       "       -0.36083177,  0.24368282, -0.09100707,  0.06798528, -0.17916495],\n",
       "      dtype=float32)"
      ]
     },
     "execution_count": 8,
     "metadata": {},
     "output_type": "execute_result"
    }
   ],
   "source": [
    "model.infer_vector(['only', 'you', 'can', 'prevent', 'forest', 'fires'])"
   ]
  },
  {
   "cell_type": "code",
   "execution_count": 9,
   "id": "6faa9ce6",
   "metadata": {},
   "outputs": [],
   "source": [
    "model.save('./doc2vec_50.model')"
   ]
  },
  {
   "cell_type": "code",
   "execution_count": null,
   "id": "99b51571",
   "metadata": {},
   "outputs": [],
   "source": []
  }
 ],
 "metadata": {
  "kernelspec": {
   "display_name": "Python [conda env:540] *",
   "language": "python",
   "name": "conda-env-540-py"
  },
  "language_info": {
   "codemirror_mode": {
    "name": "ipython",
    "version": 3
   },
   "file_extension": ".py",
   "mimetype": "text/x-python",
   "name": "python",
   "nbconvert_exporter": "python",
   "pygments_lexer": "ipython3",
   "version": "3.7.11"
  }
 },
 "nbformat": 4,
 "nbformat_minor": 5
}
